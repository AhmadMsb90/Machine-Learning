{
 "cells": [
  {
   "cell_type": "code",
   "execution_count": 1,
   "id": "04b8e5ab",
   "metadata": {},
   "outputs": [],
   "source": [
    "# ------------importing necessary packages-------------------\n",
    "import matplotlib.pyplot as plt \n",
    "import numpy as np\n",
    "import pandas as pd\n",
    "import scipy.stats as ss \n",
    "import scipy.optimize as so\n",
    "from sklearn import linear_model"
   ]
  },
  {
   "cell_type": "markdown",
   "id": "0fde274d",
   "metadata": {},
   "source": [
    "### Maximum Likelihood\n",
    "\n",
    "* We aim to fit a model to a given set of data \n",
    "* If the chosen model to fit is a **statistical model** it has a set of parameters ($\\theta$) which determine the characteristics of that statistical model\n",
    "* We can adjust the model parameters ($\\theta$) of a certain distribution to best fit the model to a given dataset\n",
    "* To do so we need some sort of criterion to assess how well the model is fitted to the data and that criterion is **Likelihood**\n",
    "* **Likelihood** shows how similar a distribution with a certain set of parameters is to a specific set of data\n",
    "* We can try various parameters and see which parameters maximize the **Likelihood** \n",
    "* Once the best parameters are chosen, the corrsponding model can be used to make prediction on the new data.\n",
    "\n",
    "for a **discrete probability distribution** $p_{Y}(\\theta ; y_{i})$ **Likelihood** is formulated as:\n",
    "$$L(\\theta ; \\mathbf{y}) = L(\\theta ; y_{1},y_{2}, ..., y_{n} ) = \\prod_{i=1}^n  p_{Y}(\\theta ; y_{i})$$\n",
    "\n",
    "for a **continuous probability distribution** $f_{Y}(\\theta ; y_{i})$ **Likelihood** is formulated as:\n",
    "$$L(\\theta ; \\mathbf{y}) = L(\\theta ; y_{1},y_{2}, ..., y_{n} ) = \\prod_{i=1}^n  f_{Y}(\\theta ; y_{i})$$\n",
    "\n",
    "\n",
    "Often, instead of maximizing the likelihood, the negative of **log-likelihood** is **minimized**, for example the negative likelihood of a iscrete probability distribution is like: \n",
    "$$\\ell(\\lambda; \\mathbf{y}) = -log(L(\\theta ; \\mathbf{y})) =  -\\sum_{i=1}^n log \\Bigg(  p_{Y}(\\theta ; y_{i}) \\Bigg)$$\n",
    "\n",
    "Now let's consider the **Poisson distribution** which has the following formulation:\n",
    "$$p_{Y}(\\theta ; y_{i}) = p_{Y}(\\lambda ; y_{i}) = \\frac{\\lambda^{y_{i}} e^{- \\lambda}}{y_{i}!}$$\n",
    "in which\n",
    "* $y_{i}$ is the number of occurrences (  $y_{i}= 0,1,2, ...$ )\n",
    "* $\\lambda$ is a positive real number which is the expected value of Y and also  its variance : $\\lambda = E[Y]$ and $\\lambda = Var(Y) = E[(Y-E[Y])^2]$\n",
    "\n",
    "Thus The negative log likelihood for a Poissondistribution is as follows:\n",
    "\n",
    "$$\\ell(\\lambda; \\mathbf{y}) = -\\sum_{i=1}^N\\Bigg(   y_{i}\\cdot \\ln(\\lambda) - \\lambda - \\ln(y_i!) \\Bigg)$$\n",
    " "
   ]
  },
  {
   "cell_type": "code",
   "execution_count": 2,
   "id": "ca362bc9",
   "metadata": {},
   "outputs": [],
   "source": [
    "# ------------poisson negative log likelihood function-------------------\n",
    "def poissonNegLogLikelihood(lam, y):\n",
    "    neg_log_lik = - sum(( (np.log(lam)) * y )- lam)\n",
    "    return neg_log_lik"
   ]
  },
  {
   "cell_type": "markdown",
   "id": "4a398401",
   "metadata": {},
   "source": [
    "### Maximum Likelihood Regression\n",
    "If we considered the distribution of the descrete random variable $Y$ given (conditioned on) the descrete random variable $X$, the **conditional distribution** would be like: \n",
    "$$p\\space(Y|X=x)$$\n",
    "$$$$\n",
    "The expected value or the mean of which is defined as follows:\n",
    "$$E[Y|X=x] = \\mu_{Y|X=x}$$\n",
    "$$$$\n",
    "If we considered the $\\mu_{Y|X=x}$ as a linear function of X (  $\\mu_{Y|X=x} = \\mathbf{X}\\mathbf{b}$   or simply   $\\mu_{Y|X=x} = b_{0} + b_{1}x_{1} + b_{2}x_{2} + ...$) and apply the **Maximum Likelihood** principle to it we would have **Maximum Likelihood Regression**: \n",
    "$$$$\n",
    "Then for any given $x$ the **Prediction Probability** would be the $\\mu_{Y|X=x}$ and the **error** for prediction probability could be calculated as : \n",
    "$$p\\space(Y|X=x) \\space-\\space\\mu_{Y|X=x} $$\n",
    "$$$$\n",
    "furthermore, To better model the given data ($X$) some **no-linearity** could be added to the model by applying some **non-linear function** to $\\mathbf{X}\\mathbf{b}$ before performing the **Likelihood Regression**.\n",
    "$$$$\n",
    "For example, one option may be to use the exponential function as the non-linear function, and as in the case of  **Poisson distribution** $\\mu_{Y|X=x}\\space=\\space\\lambda  $ we have $\\lambda \\space=\\space \\exp(\\mathbf{X}\\mathbf{b})$ included in the negative log likelihood function in the cell below:"
   ]
  },
  {
   "cell_type": "code",
   "execution_count": 3,
   "id": "44eb1e48",
   "metadata": {},
   "outputs": [],
   "source": [
    "# -----Poisson neg log likelihood regression function--------\n",
    "def poissonRegressionNegLogLikelihood(b, X, y):\n",
    "    lam = np.exp(np.dot(X, b))\n",
    "    neg_log_lik = poissonNegLogLikelihood (lam, y)\n",
    "    return neg_log_lik"
   ]
  },
  {
   "cell_type": "code",
   "execution_count": 4,
   "id": "c480fed9",
   "metadata": {},
   "outputs": [],
   "source": [
    "# -------Likliehood Regression Model Prediction function-------\n",
    "def modelPrediction(b,X):\n",
    "    yhat = np.exp(np.dot(X, b))\n",
    "    return yhat"
   ]
  },
  {
   "cell_type": "markdown",
   "id": "a8b443af",
   "metadata": {},
   "source": [
    "After defining the **negative log-likelihood** and **prediction** functions we have to **minimize** the negative log-likelihood **with respect to the parameters (b)** to find the **optimal parameters**\n",
    "\n",
    "To this end, we define a function within which we take advantage of the optimization tools in the **scipy** library and define a function whose input arguments are the **data** $\\mathbf{X}$ and the **actual target outputs** $\\mathbf{y}$ and returns the **estimated parameters vector**  $\\hat{\\mathbf{b}}$. In the cell below such function is created.  "
   ]
  },
  {
   "cell_type": "code",
   "execution_count": 5,
   "id": "cbc40787",
   "metadata": {},
   "outputs": [],
   "source": [
    "# -------Neg Log Lik Reg Model Fit function --------\n",
    "def fitModel(X,y):\n",
    "    beta_start = np.array([0, 0])\n",
    "    MLE = so.minimize(poissonRegressionNegLogLikelihood, beta_start, args=(X, y), method = 'Powell', tol = 1e-8)\n",
    "    print(\"MLE minimization report : \\n\")\n",
    "    print(f\"{MLE}\\n\")\n",
    "    betas = MLE.x\n",
    "    return betas"
   ]
  },
  {
   "cell_type": "markdown",
   "id": "476a926c",
   "metadata": {},
   "source": [
    "### An example \n",
    "Now we fit a **Likelihood Regression** model to a dataset with only **one feature** $x$. Moreover, we fit a **Linear Regression** model with **L2-norm loss** to the same data to compare the performances of the two models on the given data set."
   ]
  },
  {
   "cell_type": "code",
   "execution_count": 7,
   "id": "2ab86d5f",
   "metadata": {},
   "outputs": [
    {
     "name": "stdout",
     "output_type": "stream",
     "text": [
      "MLE minimization report : \n",
      "\n",
      "   direc: array([[ 0.        ,  1.        ],\n",
      "       [-0.2005827 ,  0.12488441]])\n",
      "     fun: 28.287152434220964\n",
      " message: 'Optimization terminated successfully.'\n",
      "    nfev: 153\n",
      "     nit: 4\n",
      "  status: 0\n",
      " success: True\n",
      "       x: array([-0.15170359,  1.23878459])\n",
      "\n"
     ]
    },
    {
     "data": {
      "image/png": "[encoded data removed]",
      "text/plain": [
       "<Figure size 432x288 with 1 Axes>"
      ]
     },
     "metadata": {
      "needs_background": "light"
     },
     "output_type": "display_data"
    }
   ],
   "source": [
    "#++++++++++++++++++++Likelihood Regression++++++++++++++++++++\n",
    "\n",
    "# -------reading the poisson_regression_data as a pandas dataFrame----------\n",
    "poi_reg_data = pd.read_csv(r\"poisson_regression_data.csv\")\n",
    "\n",
    "# ------------getting data : age and tailL columns -------------------\n",
    "x = poi_reg_data.x.values\n",
    "y = poi_reg_data.y.values\n",
    "X =np.c_[np.ones(x.size), x]\n",
    "\n",
    "# ------------scatter plotting \"x\" vs \"y\" -------------------\n",
    "plt.scatter(x, y, alpha = 0.55, label='Training data')\n",
    "plt.xlabel('x')\n",
    "plt.ylabel('y')\n",
    "\n",
    "# ---fitting the Model to the data & getting estimated parameters---\n",
    "betas = fitModel(X, y)\n",
    "\n",
    "# -----generating new data (in the same range as the training data)-----\n",
    "x_new = np.linspace(-2, 2, 102)\n",
    "X_new = np.c_[np.ones(x_new.size), x_new]\n",
    "\n",
    "# --------making predictions on new data using the estimated parameters---------\n",
    "yhat = modelPrediction (betas, X_new)\n",
    "\n",
    "# --------plotting the Model predictions on the new data-----------\n",
    "plt.plot(x_new, yhat, color='g', label='Poisson Regression Predictions')\n",
    "\n",
    "#++++++++++++++++++++Linear Regression++++++++++++++++++++\n",
    "\n",
    "\n",
    "# ------------Linear Model Prediction function-------------------\n",
    "def linearModelPredict(b,X):\n",
    "    yp = np.dot(X, b)\n",
    "    return yp \n",
    "\n",
    "# ------------Linear Model Loss function-------------------\n",
    "def linearModelLossRSS(b,X,y):\n",
    "    yp = linearModelPredict(b, X)\n",
    "    res = y - yp\n",
    "    rss = sum(res ** 2)\n",
    "    gradient = -2*np.dot(res, X)\n",
    "    return rss, gradient\n",
    "\n",
    "# ------------Linear Model Fit function (L2)-------------------\n",
    "def linearModelFit(X,y,lossfcn = linearModelLossRSS):\n",
    "    bstart = np.zeros(X.shape[1])\n",
    "    RESULT = so.minimize(lossfcn, bstart, args=(X, y), jac=True)\n",
    "    betas_estimated = RESULT.x\n",
    "    res_mean = y - np.mean(y)\n",
    "    RSS, gradient = linearModelLossRSS(betas_estimated, X, y)\n",
    "    TSS = sum(res_mean ** 2)\n",
    "    R2 = 1-(RSS/TSS)\n",
    "    return (betas_estimated,R2)\n",
    "\n",
    "\n",
    "# ----fitting the Model to the data & getting estimated parameters---\n",
    "betas, R2 = linearModelFit(X,y)\n",
    "\n",
    "# -----generating new data (in the same range as the training data)-----\n",
    "x_new = np.linspace(-2, 2, 102)\n",
    "X_new = np.c_[np.ones(x_new.size), x_new]\n",
    "\n",
    "# --------making predictions on new data using the estimated parameters---------\n",
    "yn = linearModelPredict (betas, X_new)\n",
    "\n",
    "# --------plotting the Model predictions on the new data-----------\n",
    "plt.plot(x_new, yn, color='r', label='Linear Regression Predictions (L2) ')\n",
    "plt.legend()\n",
    "plt.show()\n"
   ]
  },
  {
   "cell_type": "markdown",
   "id": "ac73e0f3",
   "metadata": {},
   "source": [
    "### Note: \n",
    "\n",
    "There are `two problems` with applying an ordinary linear regression model to discrete counts data (like data from a poisson distribution):\n",
    " \n",
    " \n",
    "`firstly`: It is quite likely that the regression model will produce negative predicted values, which are theoretically impossible \n",
    "\n",
    "`secondly`: OLS regression best fits to data from a normal process not from discrete counts data, thus using OLS regression for discrete counts data can lead great errors and suboptimal fitting."
   ]
  }
 ],
 "metadata": {
  "kernelspec": {
   "display_name": "Python 3 (ipykernel)",
   "language": "python",
   "name": "python3"
  },
  "language_info": {
   "codemirror_mode": {
    "name": "ipython",
    "version": 3
   },
   "file_extension": ".py",
   "mimetype": "text/x-python",
   "name": "python",
   "nbconvert_exporter": "python",
   "pygments_lexer": "ipython3",
   "version": "3.9.7"
  }
 },
 "nbformat": 4,
 "nbformat_minor": 5
}
