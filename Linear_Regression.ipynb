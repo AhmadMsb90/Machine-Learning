{
 "cells": [
  {
   "cell_type": "code",
   "execution_count": 1,
   "id": "0af8db2f",
   "metadata": {},
   "outputs": [],
   "source": [
    "# ------------importing necessary packages-------------------\n",
    "import matplotlib.pyplot as plt \n",
    "import numpy as np\n",
    "import pandas as pd\n",
    "import scipy.stats as ss \n",
    "import scipy.optimize as so\n",
    "from sklearn import linear_model"
   ]
  },
  {
   "cell_type": "markdown",
   "id": "6dc12c82",
   "metadata": {},
   "source": [
    "\n",
    "## Linear Regression:\n",
    "\n",
    "In a simple **Linear model** with only **one feature x** the **input-output relationship** can be formulated as:    $$y\\space=\\space b_{0}+b_{1}x_{1}$$\n",
    "\n",
    "However, a **dataset** is generally expressed as an **nxd matrix** with each **row** representing a **single datapoint** and each **column** of which representing one of the existing **features**.    \n",
    "For example, **D** is a dataset of **n samples** each having **d features**:\n",
    "\n",
    "$$D\\space= \\space\\begin{bmatrix} x_{11} & x_{12} & ... &  x_{1d}\\\\ x_{21} & x_{22} & ... &  x_{2d} \\\\ . & . & ... &  .\\\\ . & . & ... &  .\\\\ x_{n1} & x_{n2} & ... &  x_{nd}\\end{bmatrix}$$\n",
    "\n",
    "And thus the general formulation of the **input-output relationship** in a **linear model** is defined as follows:  \n",
    "$$ \\mathbf{y} = \\mathbf{X} b $$\n",
    "Where:$y_{nx1}$ is the **outputs vector**, $b_{(d+1)x1}$ is the **coefficients vector**, and $X_{nx(d+1)}$ is the **design matrix** which is built by adding a column of ones to the dataset **D** in order to include the **intercept** $b_{0}$ in the model:\n",
    "\n",
    "$$X\\space= \\space\\begin{bmatrix} 1 & x_{11} & x_{12} & ... &  x_{1d}\\\\1 & x_{21} & x_{22} & ... &  x_{2d} \\\\1 & . & . & ... &  .\\\\ . & . & ... &  .\\\\ 1 & x_{n1} & x_{n2} & ... &  x_{nd}\\end{bmatrix}$$\n",
    "\n",
    "\n",
    "The coefficients $b_{0}, b{1}, ..., b_{d}$ are estimated using the data and through optimization and once they've been determined, predictions on the new data or the same used data can be made using the already mentioned x-y relationship function as below:\n",
    "$$ \\hat{\\mathbf{y}} = \\mathbf{X} \\hat{b} $$\n",
    "where $\\hat{b}$ is the estimated coefficients vector and $ \\hat{\\mathbf{y}}$ is the predicted outputs vector, and $\\mathbf{X} $ can be a dataset totally different from the one used for training the model. \n",
    "In th below the **linear prediction function** is defined:"
   ]
  },
  {
   "cell_type": "code",
   "execution_count": 2,
   "id": "167f1bc4",
   "metadata": {},
   "outputs": [],
   "source": [
    "# ------------Linear Model Prediction function-------------------\n",
    "def linearModelPredict(b,X):\n",
    "    yp = np.dot(X, b)\n",
    "    return yp"
   ]
  },
  {
   "cell_type": "markdown",
   "id": "418c44e2",
   "metadata": {},
   "source": [
    "In order to perform optimization, some function are needed to evaluate the performance of the built model, known as **Loss function** and two of the most widely used Loss functions are :\n",
    "* **L2 norm** also known as **OLS (Ordinary Least Squares)**\n",
    "* **L1 norm** also known as **LAD (Least Absolute Deviations)**"
   ]
  },
  {
   "cell_type": "markdown",
   "id": "c869e031",
   "metadata": {},
   "source": [
    "* **L2 norm**: which is basically the sum of squared-residuals:\n",
    "$$L2\\space=\\space\\sum_{i=1}^n{(y_{i}-\\hat{y_{i}})^2}\\space$$\n",
    "\n",
    "\n",
    "this is implemented as follows, and in this function derivatives with respect to all the coefficients are returned as well:"
   ]
  },
  {
   "cell_type": "code",
   "execution_count": 3,
   "id": "c1fbd1b1",
   "metadata": {},
   "outputs": [],
   "source": [
    "# ------------Linear Model Loss function-------------------\n",
    "def linearModelLossRSS(b,X,y):\n",
    "    # linear prediction\n",
    "    yp = linearModelPredict(b, X)\n",
    "    # sum of squared residuals\n",
    "    res = y - yp\n",
    "    rss = sum(res ** 2)\n",
    "    # derivatives of Loss with respect to coefficients\n",
    "    gradient = -2*np.dot(res, X)\n",
    "    return rss, gradient"
   ]
  },
  {
   "cell_type": "markdown",
   "id": "90adf332",
   "metadata": {},
   "source": [
    "* **L1 norm**: which is  the sum of absolute values of the residuals:\n",
    "$$L1\\space=\\space\\sum_{i=1}^n{|y_{i}-\\hat{y_{i}}|}\\space$$\n",
    "\n",
    "\n",
    "this is implemented as follows, and in this function derivatives with respect to all the coefficients are returned as well:"
   ]
  },
  {
   "cell_type": "code",
   "execution_count": 4,
   "id": "84bdea7f",
   "metadata": {},
   "outputs": [],
   "source": [
    "# ------------Linear Model Fit function (L1)-------------------\n",
    "def linearModelLossLAD(b,X,y):\n",
    "    # linear prediction\n",
    "    yp = linearModelPredict(b, X)\n",
    "    # sum of absolute residuals\n",
    "    res = y - yp\n",
    "    LAD = sum(np.abs(res))\n",
    "    # derivatives of Loss with respect to coefficients\n",
    "    gradient = -np.dot(np.sign(res), X)\n",
    "    return (LAD,gradient)"
   ]
  },
  {
   "cell_type": "markdown",
   "id": "54171256",
   "metadata": {},
   "source": [
    "We also need to optimize the Loss function (L1 or L2) and find the corresponding best coefficients.We define a function that gets as its input arguments the **design matrix**, the **actual outputs vector** as well as the **Loss function** to minimize.  For the purpose of **minimization** we prefer to use the optimization tools provided in the **scipy** library. Other than fitting the data to the model and optimization, this function also returns a criterion known as **R-squared** which is calculated as follows:\n",
    "$$R^{2} = 1 - \\frac{\\sum_{i=1}^n{(y_{i}-\\hat{y_{i}})^2}}{\\sum_{i=1}^n{(y_{i}-\\bar{y})^2}} = 1- \\frac{residual\\space sum\\space of \\space squares\\space }{total\\space sum\\space of \\space squares} = 1 - \\frac{RSS}{TSS}$$\n",
    "where:\n",
    "$$\\bar{y}\\space=\\space \\frac{1}{n} \\sum_{i=1}^n{y_{i}}$$\n",
    "\n",
    "* $R^{2}$ is a metric used to show the quality of the fit of the Linear Regression model. l \n",
    "* $0 < R^{2} < 1$: The closer the fit is to one, the better the mode\n"
   ]
  },
  {
   "cell_type": "code",
   "execution_count": 5,
   "id": "e58a7464",
   "metadata": {},
   "outputs": [],
   "source": [
    "# ------------Linear Model Fit function-------------------\n",
    "def linearModelFit(X,y,lossfcn):\n",
    "    bstart = np.zeros(X.shape[1])\n",
    "    # using the scipy package to minimize the loss function\n",
    "    RESULT = so.minimize(lossfcn, bstart, args=(X, y), jac=True)\n",
    "    # getting estimated parameters\n",
    "    betas_estimated = RESULT.x\n",
    "    # calling the loss function to calculate loss and gradient \n",
    "    # regarding the newly estimated beta values \n",
    "    res_mean = y - np.mean(y)\n",
    "    RSS, gradient = linearModelLossRSS(betas_estimated, X, y)\n",
    "    TSS = sum(res_mean ** 2)\n",
    "    R2 = 1-(RSS/TSS)\n",
    "    return (betas_estimated,R2)"
   ]
  },
  {
   "cell_type": "markdown",
   "id": "139f2204",
   "metadata": {},
   "source": [
    "Now we want apply a linear model to a dataset provided by `Lindenmayer`, `Viggers`, `Cunningham` and `Donnelly` in 1995 which represents some information about possums in Australia and New Guinea. \n",
    "* This dataset includes 46 datapoints\n",
    "* Each datapoint has 6 features:\n",
    "    * sex: Sex, either m (male) or f (female).\n",
    "    * age: Age in years.\n",
    "    * headL: Head length, in mm.\n",
    "    * skullW: Skull width, in mm.\n",
    "    * totalL: Total length, in cm.\n",
    "    * tailL: Tail length, in cm.\n",
    "    \n",
    "In this examples we aim to investigate and model the relationship between the two features `age` and `tailL` ."
   ]
  },
  {
   "cell_type": "code",
   "execution_count": 6,
   "id": "e43d9b33",
   "metadata": {},
   "outputs": [
    {
     "data": {
      "image/png": "[encoded data removed]",
      "text/plain": [
       "<Figure size 432x288 with 1 Axes>"
      ]
     },
     "metadata": {
      "needs_background": "light"
     },
     "output_type": "display_data"
    }
   ],
   "source": [
    "# ------------reading the Possum data as a pandas dataFrame-------------------\n",
    "possum_data = pd.read_csv(r'possum.csv')\n",
    "\n",
    "# ------------scatter plotting Age vs Tail Length-------------------\n",
    "plt.scatter(possum_data.age, possum_data.tailL,  alpha=0.55, label='Posssum data')\n",
    "plt.xlabel('Posssum Age')\n",
    "plt.ylabel('Posssum Tail Length')\n",
    "plt.legend()\n",
    "plt.show()"
   ]
  },
  {
   "cell_type": "markdown",
   "id": "c5d7533f",
   "metadata": {},
   "source": [
    "Now if we wanted to apply a Linear Model to this data using both `L2` and `L1` norms. "
   ]
  },
  {
   "cell_type": "code",
   "execution_count": 7,
   "id": "69f25632",
   "metadata": {},
   "outputs": [
    {
     "name": "stdout",
     "output_type": "stream",
     "text": [
      "Coefficients:\n",
      "  b0: 33.35046602968987\n",
      "  b1: 0.7537283652232095\n",
      "R2: 0.22286587947604142\n"
     ]
    },
    {
     "data": {
      "image/png": "[encoded data removed]",
      "text/plain": [
       "<Figure size 432x288 with 1 Axes>"
      ]
     },
     "metadata": {
      "needs_background": "light"
     },
     "output_type": "display_data"
    }
   ],
   "source": [
    "# ------------getting data : age and tailL columns -------------------\n",
    "age = possum_data.age.values\n",
    "y = possum_data.tailL.values\n",
    "N = age.size\n",
    "X = np.c_[np.ones(N), age]\n",
    "\n",
    "# ------------fitting the data to the L2 Linear Model-------------------\n",
    "betas_estimated, R2 = linearModelFit(X, y, linearModelLossRSS)\n",
    "print('Coefficients:')\n",
    "print(f'  b0: {betas_estimated[0]}')\n",
    "print(f'  b1: {betas_estimated[1]}')\n",
    "print(f'R2: {R2}')\n",
    "\n",
    "# ------------using L2 estimated parameters to make predictions on new data-------------------\n",
    "# new data\n",
    "age_grid = np.linspace(age.min(), age.max(), 10)\n",
    "# design matrix \n",
    "Xn = np.c_[np.ones(age_grid.size), age_grid]\n",
    "# predictions on new data using the estimated parameters \n",
    "yn = linearModelPredict(betas_estimated, Xn)\n",
    "\n",
    "# ------------scatter plotting training data (age vs tailL)-------------------\n",
    "plt.scatter(possum_data.age, possum_data.tailL,  alpha=0.55, label='Posssum data')\n",
    "plt.xlabel('Age')\n",
    "plt.ylabel('Tail Length')\n",
    "plt.legend()\n",
    "\n",
    "# ------------plotting L2 predictions on the new data-------------------\n",
    "plt.plot(age_grid, yn, color='r', label='L2 predictions')\n",
    "\n",
    "# ------------fitting the data to L1 Linear Model-------------------\n",
    "betas_estimated, R2 = linearModelFit(X, y, linearModelLossLAD)\n",
    " \n",
    "# ------------using L1 estimated parameters to make predictions on new data------------------- \n",
    "yn = linearModelPredict(betas_estimated, Xn)\n",
    "\n",
    "# ------------plotting L1 predictions on the new data-------------------\n",
    "plt.plot(age_grid, yn, 'k--', label='L1 predictions')\n",
    "plt.legend()\n",
    "plt.show()"
   ]
  },
  {
   "cell_type": "markdown",
   "id": "ca8506ca",
   "metadata": {},
   "source": [
    "It can be seen that `L1 predictions` are `less influenced by the outlier datapoints` as the `L1 norm` is based on the `median` "
   ]
  },
  {
   "cell_type": "markdown",
   "id": "efe78b91",
   "metadata": {},
   "source": [
    "An easier way of applying linear models is to `sklearn` package in which all of the above function are already implemeneted.\n",
    "For example, here Linear regression with L2 loss is used to perform the above tasks.\n"
   ]
  },
  {
   "cell_type": "code",
   "execution_count": 10,
   "id": "08b56afe",
   "metadata": {},
   "outputs": [
    {
     "name": "stdout",
     "output_type": "stream",
     "text": [
      "R2 using sklearn: 0.22\n"
     ]
    },
    {
     "data": {
      "image/png": "[encoded data removed]",
      "text/plain": [
       "<Figure size 432x288 with 1 Axes>"
      ]
     },
     "metadata": {
      "needs_background": "light"
     },
     "output_type": "display_data"
    }
   ],
   "source": [
    "# ------------scatter plotting training data (age vs tailL)-------------------\n",
    "plt.scatter(possum_data.age, possum_data.tailL,  alpha=0.55, label='Posssum data')\n",
    "plt.xlabel('Age')\n",
    "plt.ylabel('Tail Length')\n",
    "plt.legend()\n",
    "# ------------fitting the data to \"sklearn\" L2 Linear Model-------------------\n",
    "ols_fit = linear_model.LinearRegression().fit(X, y)\n",
    "R2 = ols_fit.score(X, y)\n",
    "print(f\"R2 using sklearn: {np.round(R2, 2)}\")\n",
    "\n",
    "# ------------using \"sklearn\" L2 fitted model to make predictions on new data-------------------\n",
    "y_pred_ols = ols_fit.predict(Xn)\n",
    "\n",
    "# ------------plotting \"sklearn\" L2 predictions on the new data-------------------\n",
    "plt.plot(age_grid, y_pred_ols, 'g', label='\"sklearn\" L2 predictions')\n",
    "plt.legend()\n",
    "plt.show()"
   ]
  }
 ],
 "metadata": {
  "kernelspec": {
   "display_name": "Python 3 (ipykernel)",
   "language": "python",
   "name": "python3"
  },
  "language_info": {
   "codemirror_mode": {
    "name": "ipython",
    "version": 3
   },
   "file_extension": ".py",
   "mimetype": "text/x-python",
   "name": "python",
   "nbconvert_exporter": "python",
   "pygments_lexer": "ipython3",
   "version": "3.9.7"
  }
 },
 "nbformat": 4,
 "nbformat_minor": 5
}
